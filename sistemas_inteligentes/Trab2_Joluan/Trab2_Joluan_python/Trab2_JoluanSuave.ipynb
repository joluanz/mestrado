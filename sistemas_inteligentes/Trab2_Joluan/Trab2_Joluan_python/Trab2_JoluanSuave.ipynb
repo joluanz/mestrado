{
 "cells": [
  {
   "cell_type": "code",
   "execution_count": null,
   "id": "67489b81",
   "metadata": {},
   "outputs": [],
   "source": [
    "from sklearn import datasets\n",
    "from classificadores import ExecutaClassificador"
   ]
  },
  {
   "cell_type": "code",
   "execution_count": null,
   "id": "c71a04f4",
   "metadata": {},
   "outputs": [],
   "source": [
    "wine = datasets.load_wine()\n",
    "ExecutaClassificador(wine, \"wine\")"
   ]
  },
  {
   "cell_type": "code",
   "execution_count": null,
   "id": "b6aefc80",
   "metadata": {},
   "outputs": [],
   "source": [
    "breastcancer = datasets.load_breast_cancer()\n",
    "ExecutaClassificador(breastcancer, \"breast_cancer\")"
   ]
  },
  {
   "cell_type": "code",
   "execution_count": null,
   "id": "47cc4815",
   "metadata": {},
   "outputs": [],
   "source": [
    "digits = datasets.load_digits()\n",
    "ExecutaClassificador(digits, \"digits\")"
   ]
  }
 ],
 "metadata": {
  "kernelspec": {
   "display_name": "Python 3",
   "language": "python",
   "name": "python3"
  },
  "language_info": {
   "codemirror_mode": {
    "name": "ipython",
    "version": 3
   },
   "file_extension": ".py",
   "mimetype": "text/x-python",
   "name": "python",
   "nbconvert_exporter": "python",
   "pygments_lexer": "ipython3",
   "version": "3.8.8"
  }
 },
 "nbformat": 4,
 "nbformat_minor": 5
}
