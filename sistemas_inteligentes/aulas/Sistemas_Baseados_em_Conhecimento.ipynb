{
 "cells": [
  {
   "cell_type": "markdown",
   "id": "attempted-saudi",
   "metadata": {
    "id": "attempted-saudi"
   },
   "source": [
    "# Sistemas Baseados em Conhecimento\n",
    "## Sistemas Baseados em Regras\n",
    "### Pyknow"
   ]
  },
  {
   "cell_type": "markdown",
   "id": "operational-lease",
   "metadata": {
    "id": "operational-lease"
   },
   "source": [
    "Fatos\n",
    "\n",
    " São uma unidade básica de informação de Pyknow\n",
    " \n",
    " A classe Fact é uma subclasse de dict (dicionário)\n",
    " \n",
    " Portanto, Fact não mantém uma ordem interna dos seus itens"
   ]
  },
  {
   "cell_type": "markdown",
   "id": "46ef9198",
   "metadata": {},
   "source": [
    "# instalar o pyknow\n",
    "\n",
    "!pip install https://github.com/buguroo/pyknow/archive/refs/heads/develop.zip"
   ]
  },
  {
   "cell_type": "markdown",
   "id": "0b3f3d0c",
   "metadata": {},
   "source": [
    "!pip install experta"
   ]
  },
  {
   "cell_type": "code",
   "execution_count": 1,
   "id": "a9aaaaba",
   "metadata": {},
   "outputs": [],
   "source": [
    "from experta import *"
   ]
  },
  {
   "cell_type": "code",
   "execution_count": null,
   "id": "needed-improvement",
   "metadata": {
    "colab": {
     "base_uri": "https://localhost:8080/",
     "height": 357
    },
    "id": "needed-improvement",
    "outputId": "f639d66b-c804-4bb6-f839-a7e58e242f22"
   },
   "outputs": [],
   "source": [
    "f = Fact(a=1, b=2)\n",
    "print(f['a'])"
   ]
  },
  {
   "cell_type": "markdown",
   "id": "bigger-andrews",
   "metadata": {
    "id": "bigger-andrews"
   },
   "source": [
    "É possível criar fatos sem palavras chaves"
   ]
  },
  {
   "cell_type": "code",
   "execution_count": null,
   "id": "juvenile-lindsay",
   "metadata": {
    "id": "juvenile-lindsay",
    "outputId": "7fc097d0-4cbf-4dd5-e666-12eeca2a9960"
   },
   "outputs": [],
   "source": [
    "f = Fact ('x', 'y', 'z', a = 1, b = 2)\n",
    "print (f[0])\n",
    "print(f['a'])"
   ]
  },
  {
   "cell_type": "markdown",
   "id": "specific-lindsay",
   "metadata": {
    "id": "specific-lindsay"
   },
   "source": [
    "É possível criar subclasses de Fact para expressar tipos diferentes de dados e/ou criar funcionalidades específicas"
   ]
  },
  {
   "cell_type": "code",
   "execution_count": null,
   "id": "integrated-prize",
   "metadata": {
    "id": "integrated-prize",
    "outputId": "3d295b7d-f3ba-4254-eb80-ad3b6f2f8dd5"
   },
   "outputs": [],
   "source": [
    "class Alert(Fact):\n",
    "    pass\n",
    "\n",
    "class Status(Fact):\n",
    "    pass\n",
    "\n",
    "f1 = Alert(color = 'red')\n",
    "f2 = Status(state = 'critical')\n",
    "\n",
    "print (f1['color'])\n",
    "print (f2['state'])\n"
   ]
  },
  {
   "cell_type": "markdown",
   "id": "packed-tomorrow",
   "metadata": {
    "id": "packed-tomorrow"
   },
   "source": [
    "Inicialização de fatos"
   ]
  },
  {
   "cell_type": "markdown",
   "id": "overall-bleeding",
   "metadata": {
    "id": "overall-bleeding"
   },
   "source": [
    " Sistema necessita para começar a funcionar de um conjunto de fatos iniciais.\n",
    " \n",
    " Todos os fatos iniciais definidos nos decoradores DefFacts são criados toda vez que o método reset é chamado."
   ]
  },
  {
   "cell_type": "code",
   "execution_count": null,
   "id": "parallel-image",
   "metadata": {
    "id": "parallel-image"
   },
   "outputs": [],
   "source": [
    "@DefFacts()\n",
    "def needed_data():\n",
    "    yield Fact(best_color = 'red')\n",
    "    yield Fact(best_body = 'medium')\n",
    "    yield Fact(best_sweetness = 'dry')     "
   ]
  },
  {
   "cell_type": "markdown",
   "id": "expired-acceptance",
   "metadata": {
    "id": "expired-acceptance"
   },
   "source": [
    "Regras"
   ]
  },
  {
   "cell_type": "markdown",
   "id": "shaped-mason",
   "metadata": {
    "id": "shaped-mason"
   },
   "source": [
    " Tem dois componentes (LHS e RHS). \n",
    " \n",
    " LHS descrevem as condições para a regra ser disparada. \n",
    " \n",
    " RHS é um conjunto de ações realizadas quando a regra é disparada"
   ]
  },
  {
   "cell_type": "code",
   "execution_count": null,
   "id": "second-elephant",
   "metadata": {
    "id": "second-elephant"
   },
   "outputs": [],
   "source": [
    "@Rule(AND(Fact(feature='voa'), \n",
    "          Fact(tipo='ave')))\n",
    "def e_passaro(self):\n",
    "    print(\"Passaro\")\n",
    "\n",
    "@Rule(AND(NOT(Fact(feature='voa')),\n",
    "          Fact(tipo='ave')))\n",
    "def e_pinguim(self):\n",
    "    print(\"Pinguim\")"
   ]
  },
  {
   "cell_type": "markdown",
   "id": "macro-rough",
   "metadata": {
    "id": "macro-rough"
   },
   "source": [
    "Máquina de Inferência"
   ]
  },
  {
   "cell_type": "markdown",
   "id": "attempted-nutrition",
   "metadata": {
    "id": "attempted-nutrition"
   },
   "source": [
    " Responsável pela execução do sistema. \n",
    " \n",
    " Primeiro passo é fazer uma subclasse. \n",
    " \n",
    " Depois instanciá-la e rodar o sistema."
   ]
  },
  {
   "cell_type": "code",
   "execution_count": null,
   "id": "raising-attendance",
   "metadata": {
    "id": "raising-attendance",
    "outputId": "b0062b3c-d359-4d36-b344-3fae169818e3"
   },
   "outputs": [],
   "source": [
    "class ClassifyAnimals(KnowledgeEngine):\n",
    "\n",
    "    @DefFacts()\n",
    "    def _initial_features(self):\n",
    "        yield Fact(feature=\"\")\n",
    "        yield Fact(feature=\"voa\")\n",
    "\n",
    "    @Rule(Fact(feature='penas'))\n",
    "    def e_ave(self):\n",
    "        self.declare(Fact(tipo='ave'))\n",
    "\n",
    "    @Rule(AND(Fact(feature='voa'),\n",
    "              Fact(tipo='ave')))\n",
    "    def e_passaro(self):\n",
    "        print(\"Passaro\")\n",
    "\n",
    "    @Rule(AND(NOT(Fact(feature='voa')),\n",
    "              Fact(tipo='ave')))\n",
    "    def e_pinguim(self):\n",
    "        print(\"Pinguim\")\n",
    "\n",
    "engine = ClassifyAnimals()\n",
    "engine.reset()\n",
    "engine.run() "
   ]
  },
  {
   "cell_type": "code",
   "execution_count": null,
   "id": "32afdfc1",
   "metadata": {
    "id": "raising-attendance",
    "outputId": "b0062b3c-d359-4d36-b344-3fae169818e3"
   },
   "outputs": [],
   "source": [
    "class Objetivo(Fact):\n",
    "    pass\n",
    "\n",
    "class ClassifyAnimals(KnowledgeEngine):\n",
    "\n",
    "    @DefFacts()\n",
    "    def _initial_features(self):\n",
    "        yield Fact(feature=\"\")\n",
    "        yield Fact(feature=\"voa\")\n",
    "\n",
    "    @Rule(Fact(feature='penas'))\n",
    "    def e_ave(self):\n",
    "        self.declare(Fact(tipo='ave'))\n",
    "\n",
    "    @Rule(AND(Fact(feature='voa'),\n",
    "              Fact(tipo='ave')))\n",
    "    def e_passaro(self):\n",
    "        print(\"Passaro\")\n",
    "\n",
    "    @Rule(AND(NOT(Fact(feature='voa')),\n",
    "              Fact(tipo='ave')))\n",
    "    def e_pinguim(self):\n",
    "        print(\"Pinguim\")\n",
    "\n",
    "engine = ClassifyAnimals()\n",
    "engine.reset()\n",
    "engine.run() "
   ]
  },
  {
   "cell_type": "markdown",
   "id": "southwest-explorer",
   "metadata": {
    "id": "southwest-explorer"
   },
   "source": [
    "Operador existencial EXIST "
   ]
  },
  {
   "cell_type": "code",
   "execution_count": null,
   "id": "eleven-edward",
   "metadata": {
    "id": "eleven-edward",
    "outputId": "fe6ef493-268c-4edd-e582-a126c51fa1b9"
   },
   "outputs": [],
   "source": [
    "class Goal(Fact):\n",
    "    pass\n",
    "\n",
    "class Hero(Fact):\n",
    "    name = Field(str)\n",
    "    status = Field(str, default=\"unoccupied\")\n",
    "\n",
    "class Heroes(KnowledgeEngine):\n",
    "    \n",
    "        @DefFacts()\n",
    "        def goal_and_heroes(self):\n",
    "            yield Goal('save-the-day')\n",
    "            yield Hero(name=\"Death Defying Man\", status = 'busy')\n",
    "            yield Hero(name=\"Stupendous Man\")\n",
    "            yield Hero(name=\"Incredible Man\", status = 'busy')\n",
    "            \n",
    "        @Rule(Goal('save-the-day'),\n",
    "              EXISTS(Hero(status=\"unoccupied\")))\n",
    "        def save_the_day(self):\n",
    "            print(\"The day is saved\")\n",
    "            \n",
    "engineH = Heroes()\n",
    "engineH.reset()\n",
    "engineH.run()\n"
   ]
  },
  {
   "cell_type": "markdown",
   "id": "latin-indie",
   "metadata": {
    "id": "latin-indie"
   },
   "source": [
    "Wildcards: Associam com quaisquer valores.\n",
    "\n",
    "MATCH: Retorna valor associado com nome."
   ]
  },
  {
   "cell_type": "code",
   "execution_count": null,
   "id": "metric-brother",
   "metadata": {
    "id": "metric-brother",
    "outputId": "681d10bb-ba1f-4bff-bc30-137468c770a7"
   },
   "outputs": [],
   "source": [
    "class Greetings(KnowledgeEngine):\n",
    "    @DefFacts()\n",
    "    def _initial_action(self):\n",
    "        yield Fact(action=\"greet\")\n",
    "\n",
    "    @Rule(Fact(action='greet'),\n",
    "          NOT(Fact(name=W())))\n",
    "    def ask_name(self):\n",
    "        self.declare(Fact(name=input(\"What's your name? \")))\n",
    "\n",
    "    @Rule(Fact(action='greet'),\n",
    "          NOT(Fact(location=W())))\n",
    "    def ask_location(self):\n",
    "        self.declare(Fact(location=input(\"Where are you? \")))\n",
    "\n",
    "    @Rule(Fact(action='greet'),\n",
    "          Fact(name=MATCH.name),\n",
    "          Fact(location=MATCH.location))\n",
    "    def greet(self, name, location):\n",
    "        print(\"Hi %s! How is the weather in %s?\" % (name, location))\n",
    "\n",
    "engine = Greetings()\n",
    "engine.reset()  # Prepare the engine for the execution.\n",
    "engine.run()  # Run it!"
   ]
  },
  {
   "cell_type": "markdown",
   "id": "heavy-surprise",
   "metadata": {
    "id": "heavy-surprise"
   },
   "source": [
    "L: Só associa exatamente com o valor literal usado. \n",
    "\n",
    "&: Associa se todos os valores casam.\n",
    "\n",
    "|: Associa se um dos valores casam.\n",
    "\n",
    "~: Associa se o valor não casa. \n",
    "\n",
    "<<: Associa valor de fato a variável. \n",
    "\n",
    "AS: Associa fato a variável."
   ]
  },
  {
   "cell_type": "code",
   "execution_count": null,
   "id": "opened-royal",
   "metadata": {
    "id": "opened-royal",
    "outputId": "e7f8ed2a-917f-48cc-a99c-a1735832f75b"
   },
   "outputs": [],
   "source": [
    "from random import choice\n",
    "\n",
    "class Light(Fact):\n",
    "    \"\"\"Info about the traffic light.\"\"\"\n",
    "    pass\n",
    "\n",
    "class RobotCrossStreet(KnowledgeEngine):\n",
    "    @Rule(Light(color='green'))\n",
    "    def green_light(self):\n",
    "        print(\"Walk\")\n",
    "\n",
    "    @Rule(Light(color='red'))\n",
    "    def red_light(self):\n",
    "        print(\"Don't walk\")\n",
    "\n",
    "    @Rule(AS.light << Light(color=L('yellow') | L('blinking-yellow')))\n",
    "    def cautious(self, light):\n",
    "        print(\"Be cautious because light is\", light[\"color\"])\n",
    "\n",
    "engine = RobotCrossStreet()\n",
    "engine.reset()\n",
    "engine.declare(Light(color=choice(['green', 'yellow', 'blinking-yellow', 'red'])))\n",
    "engine.run() "
   ]
  },
  {
   "cell_type": "markdown",
   "id": "thirty-scout",
   "metadata": {
    "id": "thirty-scout"
   },
   "source": [
    "Exercícios de Fixação"
   ]
  },
  {
   "cell_type": "markdown",
   "id": "valued-volume",
   "metadata": {
    "id": "valued-volume"
   },
   "source": [
    "1. Qual a diferença entre um sistema baseado em conhecimento e um sistema convencional que executa o mesmo tipo de tarefa? Porque sistemas baseados em conhecimento foram chamados inicialmente de sistemas especialistas?"
   ]
  },
  {
   "cell_type": "markdown",
   "id": "legendary-survey",
   "metadata": {
    "id": "legendary-survey"
   },
   "source": [
    "2. Qual a forma mais comum de representação de conhecimento em sistemas baseados em conhecimento? Qual a principal vantagem desse tipo de representação?"
   ]
  },
  {
   "cell_type": "markdown",
   "id": "homeless-radical",
   "metadata": {
    "id": "homeless-radical"
   },
   "source": [
    "3. Explique o que são os modos de inferência com encadeamento para frente e para trás? Apresente exemplos."
   ]
  },
  {
   "cell_type": "markdown",
   "id": "inappropriate-commissioner",
   "metadata": {
    "id": "inappropriate-commissioner"
   },
   "source": [
    "4. Quais são consideradas as maiores dificuldades para a criação e uso de Sistemas Baseados em Conhecimento? Explique porque essas dificuldades ocorrem? "
   ]
  },
  {
   "cell_type": "markdown",
   "id": "black-flooring",
   "metadata": {
    "id": "black-flooring"
   },
   "source": [
    "5. Uma das alegadas vantagens de Sistemas Baseados em Conhecimento é possuírem capacidade de explicar seu raciocínio. Porque esses sistemas tem essa capacidade? Contraste isso com sistemas de aprendizado baseados em redes neurais, que não possuem essa capacidade. Porque explicar o raciocínio é importante e o que se perde quando não se tem essa capacidade? "
   ]
  },
  {
   "cell_type": "markdown",
   "id": "compound-murder",
   "metadata": {
    "id": "compound-murder"
   },
   "source": [
    "6. Explique em que tipo de situação é indicado o uso de Sistemas Baseados em Conhecimento?"
   ]
  },
  {
   "cell_type": "markdown",
   "id": "unavailable-hamilton",
   "metadata": {
    "id": "unavailable-hamilton"
   },
   "source": [
    "7. Altere a implementação da classe ClassifyAnimals para que a inferência conclua Penguim em vez de Pássaro?\n",
    "Altere a implementação novamente para que seja perguntado ao usuário se o animal voa.\n",
    "Altere mais uma vez a implementação para que seja perguntado se o animal tem penas.\n",
    "Em caso negativo, o sistema deve responder que o animal é um morcego."
   ]
  },
  {
   "cell_type": "markdown",
   "id": "2fd6081d",
   "metadata": {},
   "source": [
    "    @Rule(Fact(penas='sim'))\n",
    "    def e_ave(self):\n",
    "        self.declare(Fact(tipo='ave'))\n",
    "\n",
    "    @Rule(AND(Fact(voa='sim'),\n",
    "              Fact(tipo='ave')))\n",
    "    def e_passaro(self):\n",
    "        print(\"Passaro\")\n",
    "\n",
    "    @Rule(AND(NOT(Fact(voa='sim')),\n",
    "              Fact(tipo='ave')))\n",
    "    def e_pinguim(self):\n",
    "        print(\"Pinguim\")\n",
    "    \n",
    "    @Rule(AND(Fact(voa='sim'),\n",
    "              NOT(Fact(tipo='ave'))))\n",
    "    def e_morcego(self):\n",
    "        print(\"Morcego\")"
   ]
  },
  {
   "cell_type": "markdown",
   "id": "605f44b4",
   "metadata": {
    "id": "raising-attendance",
    "outputId": "b0062b3c-d359-4d36-b344-3fae169818e3"
   },
   "source": [
    "class ClassifyAnimals(KnowledgeEngine):\n",
    "\n",
    "    @DefFacts()\n",
    "    def _initial_features(self):\n",
    "        yield Fact(penas=\"sim\")\n",
    "        yield Fact(voa=\"nao\")\n",
    "\n",
    "    @Rule(Fact(penas='sim'))\n",
    "    def e_ave(self):\n",
    "        self.declare(Fact(tipo='ave'))\n",
    "\n",
    "    @Rule(AND(Fact(voa='sim'),\n",
    "              Fact(tipo='ave')))\n",
    "    def e_passaro(self):\n",
    "        print(\"Passaro\")\n",
    "\n",
    "    @Rule(AND(NOT(Fact(voa='sim')),\n",
    "              Fact(tipo='ave')))\n",
    "    def e_pinguim(self):\n",
    "        print(\"Pinguim\")\n",
    "    \n",
    "    @Rule(AND(Fact(voa='sim'),\n",
    "              NOT(Fact(tipo='ave'))))\n",
    "    def e_morcego(self):\n",
    "        print(\"Morcego\")\n",
    "\n",
    "        \n",
    "engine = ClassifyAnimals()\n",
    "engine.reset()\n",
    "engine.run() "
   ]
  },
  {
   "cell_type": "code",
   "execution_count": 27,
   "id": "267818b5",
   "metadata": {},
   "outputs": [
    {
     "name": "stdout",
     "output_type": "stream",
     "text": [
      "O animal tem penas? sim\n",
      "O animal pode voar? sim\n",
      "Passaro\n"
     ]
    }
   ],
   "source": [
    "class Animais(KnowledgeEngine):\n",
    "    @DefFacts()\n",
    "    def _initial_action(self):\n",
    "        yield Fact(action=\"ask\")\n",
    "    \n",
    "    @Rule(Fact(action='ask'),\n",
    "          NOT(Fact(penas=W())),salience=5)\n",
    "    def ask_penas(self):\n",
    "        self.declare(Fact(penas=input(\"O animal tem penas? \")))\n",
    "    \n",
    "    @Rule(Fact(action='ask'),\n",
    "          NOT(Fact(voa=W())),salience=4)\n",
    "    def ask_voa(self):\n",
    "        self.declare(Fact(voa=input(\"O animal pode voar? \")))\n",
    "    \n",
    "    @Rule(Fact(penas='sim'),salience=3)\n",
    "    def e_ave(self):\n",
    "        self.declare(Fact(tipo='ave'))\n",
    "\n",
    "    @Rule(AND(Fact(voa='sim'),\n",
    "              Fact(tipo='ave')),salience=0)\n",
    "    def e_passaro(self):\n",
    "        print(\"Passaro\")\n",
    "\n",
    "    @Rule(AND(NOT(Fact(voa='sim')),\n",
    "              Fact(tipo='ave')),salience=0)\n",
    "    def e_pinguim(self):\n",
    "        print(\"Pinguim\")\n",
    "    \n",
    "    @Rule(AND(Fact(voa='sim'),\n",
    "              NOT(Fact(tipo='ave'))),salience=0)\n",
    "    def e_morcego(self):\n",
    "        print(\"Morcego\")\n",
    "\n",
    "engine = Animais()\n",
    "engine.reset()\n",
    "engine.run() "
   ]
  }
 ],
 "metadata": {
  "colab": {
   "name": "Cópia de Sistemas Baseados em Conhecimento.ipynb",
   "provenance": []
  },
  "kernelspec": {
   "display_name": "Python 3",
   "language": "python",
   "name": "python3"
  },
  "language_info": {
   "codemirror_mode": {
    "name": "ipython",
    "version": 3
   },
   "file_extension": ".py",
   "mimetype": "text/x-python",
   "name": "python",
   "nbconvert_exporter": "python",
   "pygments_lexer": "ipython3",
   "version": "3.8.8"
  }
 },
 "nbformat": 4,
 "nbformat_minor": 5
}
