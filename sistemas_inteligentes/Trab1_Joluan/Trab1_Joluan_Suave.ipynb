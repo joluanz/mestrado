{
 "cells": [
  {
   "cell_type": "code",
   "execution_count": 1,
   "id": "5b8a7ac2",
   "metadata": {},
   "outputs": [],
   "source": [
    "import numpy as np\n",
    "import pandas as pd\n",
    "import seaborn as sns\n",
    "from scipy import stats\n",
    "from scipy.stats import ttest_rel, wilcoxon\n",
    "from sklearn import datasets, preprocessing\n",
    "from sklearn.model_selection import cross_val_predict, cross_val_score, RepeatedStratifiedKFold, GridSearchCV\n",
    "from sklearn.neighbors import KNeighborsClassifier\n",
    "from sklearn.naive_bayes import GaussianNB\n",
    "from sklearn.tree import DecisionTreeClassifier\n",
    "from sklearn.ensemble import BaggingClassifier,AdaBoostClassifier,RandomForestClassifier\n",
    "from sklearn.pipeline import Pipeline\n",
    "from sklearn.utils import resample\n",
    "\n",
    "from sklearn.base import BaseEstimator\n",
    "from sklearn.utils.validation import check_X_y\n",
    "from collections import Counter"
   ]
  },
  {
   "cell_type": "code",
   "execution_count": 2,
   "id": "2e6881be",
   "metadata": {},
   "outputs": [],
   "source": [
    "#carrega a base wine\n",
    "wine = datasets.load_wine()\n",
    "wine_X = wine.data\n",
    "wine_y = wine.target"
   ]
  },
  {
   "cell_type": "code",
   "execution_count": 3,
   "id": "7e758eb4",
   "metadata": {},
   "outputs": [],
   "source": [
    "#carrega a base breast cancer\n",
    "cancer = datasets.load_breast_cancer()\n",
    "cancer_X = cancer.data\n",
    "cancer_y = cancer.target"
   ]
  },
  {
   "cell_type": "code",
   "execution_count": 4,
   "id": "a27503af",
   "metadata": {},
   "outputs": [],
   "source": [
    "#carrega a base digits\n",
    "digits = datasets.load_digits()\n",
    "digits_X = digits.data\n",
    "digits_y = digits.target"
   ]
  },
  {
   "cell_type": "code",
   "execution_count": 5,
   "id": "953ee29b",
   "metadata": {},
   "outputs": [],
   "source": [
    "#definido o classificador heterogeneouspooling\n",
    "class HeterogenousPoolingClassifier(BaseEstimator):\n",
    "    def __init__(self, n_samples=None):\n",
    "        super().__init__()\n",
    "        self.n_samples = n_samples #apenas um hiperparametro\n",
    "    \n",
    "    #método fit() para treinamento dos classificadores base    \n",
    "    def fit(self,x_train,y_train):\n",
    "        classificadores = [] #array classifiacdores: array para salvar os classificadores base depois de treinados\n",
    "        x_train,y_train = check_X_y(x_train,y_train)\n",
    "        \n",
    "        #_ordem_classes: array com as classes da base de treino original, em ordem decrescente(utlizado para desempate)\n",
    "        df_aux = pd.DataFrame(data=y_train)\n",
    "        df_ordem = df_aux.value_counts(df_aux[0])\n",
    "        dados_ordem = pd.DataFrame(data=df_ordem)\n",
    "        self._ordem_classes  = dados_ordem.index.array\n",
    "        \n",
    "        #loop para criar novas bases de treino a partir da original, e ir fitando os classifiacdores base\n",
    "        for i in range(self.n_samples):\n",
    "            if i == 0:\n",
    "                sub_X, sub_y = x_train, y_train\n",
    "            else:\n",
    "                sub_X, sub_y = resample(x_train, y_train, random_state=i-1)\n",
    "\n",
    "            self.DT = DecisionTreeClassifier()\n",
    "            self.DT.fit(sub_X,sub_y)\n",
    "            classificadores.append(self.DT)\n",
    "            \n",
    "            self.gNB = GaussianNB()\n",
    "            self.gNB.fit(sub_X,sub_y)\n",
    "            classificadores.append(self.gNB)\n",
    "            \n",
    "            self.kNN = KNeighborsClassifier(n_neighbors=1)\n",
    "            self.kNN.fit(sub_X,sub_y)\n",
    "            classificadores.append(self.kNN)\n",
    "        \n",
    "        self._classificadores = classificadores\n",
    "\n",
    "    #método predict(): usado para predizer a classe dos exemplos do conjunto de teste\n",
    "    def predict(self,x_test):\n",
    "        ordem_classes = self._ordem_classes\n",
    "        \n",
    "        #predicts: vai conter uma lista com todos os predicts para cada classificador base\n",
    "        predicts = []\n",
    "        for classificador in self._classificadores:\n",
    "            predict = classificador.predict(x_test)\n",
    "            predicts.append(predict)\n",
    "      \n",
    "        dados_todos = pd.DataFrame(data=predicts)\n",
    "        \n",
    "        #predicao: array que será retornado pelo método predict\n",
    "        #contendo cada uma das predição(para o hgpooling) para cada exemplo do conjunto de teste\n",
    "        predicao = []\n",
    "        \n",
    "        for index in dados_todos: #loop para percorrer cada exemplo do conjunto de teste\n",
    "            coluna = dados_todos[index] #coluna: todos os predicts dos classificadores base para um exemplo do teste\n",
    "            \n",
    "            #mostc: vai ser nx2 => na primeira coluna[0] vai ter a classe, na segunda[1] a quantidade\n",
    "            #em ordem decrescente\n",
    "            mostc = Counter(coluna).most_common() \n",
    "\n",
    "            #a condição a seguir cria um array empatados[]\n",
    "            #para salvar os primeiros colocados entre \n",
    "            empatados = []\n",
    "            if len(mostc) == 1: #caso só exista uma classe, não tem como ter empate, logo retorna ela mesma\n",
    "                empatados.append(mostc[0][0])\n",
    "            else: #caso tenha mais que uma classe, verifica se tem quantidades iguais\n",
    "                for ind in range(len(mostc)-1):\n",
    "                    if len(mostc) == 1:\n",
    "                        empatados.append(mostc[ind][0])\n",
    "                        break\n",
    "                    else:\n",
    "                        if mostc[ind][1] == mostc[ind+1][1]:\n",
    "                            if empatados == []:    \n",
    "                                empatados.append(mostc[ind][0])\n",
    "                                empatados.append(mostc[ind+1][0])\n",
    "                            else:\n",
    "                                empatados.append(mostc[ind+1][0])\n",
    "                        else:\n",
    "                            if not empatados:\n",
    "                                empatados.append(mostc[0][0])\n",
    "                                break\n",
    "                            else:\n",
    "                                break\n",
    "            #decisao: variavel auxiliar para armazenar o predict do atual exemplo\n",
    "            #caso tenha mais de um no array empatados: vai usar o array ordem_classes para desempatar\n",
    "            if len(empatados) != 1:                    \n",
    "                for classe_ord in ordem_classes: #ordem_classes = array com a ordem para desempate obtido na base de treino original\n",
    "                    for classe_pred in empatados: #empatados= array de classes empatadas\n",
    "                        #o desempate é feito escolhendo entre os empatados o primeiro que aparecer na lista de ordem obitidos\n",
    "                        if classe_ord == classe_pred: \n",
    "                            decisao = classe_pred\n",
    "                            break\n",
    "                    else:\n",
    "                        continue\n",
    "                    break\n",
    "            else: #com apenas um, \n",
    "                decisao = empatados[0]\n",
    "                    \n",
    "            predicao.append(decisao)\n",
    "            \n",
    "        #predict = np.asarray(predicao)\n",
    "        return np.asarray(predicao)"
   ]
  },
  {
   "cell_type": "code",
   "execution_count": 6,
   "id": "3f8c1d76",
   "metadata": {},
   "outputs": [],
   "source": [
    "stdscaler = preprocessing.StandardScaler() #normalizacao z-score\n",
    "grade = {'estimator__n_estimators': [10, 25, 50, 100]} #grade para ciclo interno\n",
    "rkf = RepeatedStratifiedKFold(n_splits=10, n_repeats=3,random_state=36851234) #ciclo externo\n"
   ]
  },
  {
   "cell_type": "code",
   "execution_count": 7,
   "id": "f88a9a22",
   "metadata": {},
   "outputs": [],
   "source": [
    "bagging = BaggingClassifier() #inicia o classificador\n",
    "pipe_bagging = Pipeline([('scaler', stdscaler), ('estimator', bagging)]) #pipeline com o classificador e a normalizacao\n",
    "gs_bagging = GridSearchCV(estimator=pipe_bagging, param_grid = grade, \n",
    "                  scoring='accuracy', cv = 4) #gridsearch com o pipeline e a grade(ciclo interno, 4 folds)"
   ]
  },
  {
   "cell_type": "code",
   "execution_count": 8,
   "id": "43e165b5",
   "metadata": {},
   "outputs": [],
   "source": [
    "adaboost = AdaBoostClassifier()\n",
    "pipe_adaboost = Pipeline([('scaler', stdscaler), ('estimator', adaboost)])\n",
    "gs_adaboost = GridSearchCV(estimator=pipe_adaboost, param_grid = grade, \n",
    "                  scoring='accuracy', cv = 4)"
   ]
  },
  {
   "cell_type": "code",
   "execution_count": 9,
   "id": "c49281ec",
   "metadata": {},
   "outputs": [],
   "source": [
    "randomforest = RandomForestClassifier()\n",
    "pipe_randomforest = Pipeline([('scaler', stdscaler), ('estimator', randomforest)])\n",
    "gs_randomforest = GridSearchCV(estimator=pipe_randomforest, param_grid = grade, \n",
    "                  scoring='accuracy', cv = 4)"
   ]
  },
  {
   "cell_type": "code",
   "execution_count": 10,
   "id": "547a2171",
   "metadata": {},
   "outputs": [],
   "source": [
    "hgPooling = HeterogenousPoolingClassifier()\n",
    "grade_hgPooling={'estimator__n_samples': [1,3,5,7]} #a grade para o ciclo intenro do hgpooling é diferente, passando n_samples\n",
    "\n",
    "pipe_hgPooling = Pipeline([('scaler', stdscaler), ('estimator', hgPooling)])\n",
    "\n",
    "gs_hgPooling = GridSearchCV(estimator=pipe_hgPooling, param_grid = grade_hgPooling, scoring='accuracy', cv = 4)"
   ]
  },
  {
   "cell_type": "code",
   "execution_count": 11,
   "id": "03007b58",
   "metadata": {},
   "outputs": [],
   "source": [
    "#scores na base wine de cada classificador\n",
    "scores_wine_bagging = cross_val_score(gs_bagging, wine_X, wine_y, scoring='accuracy', cv = rkf)\n",
    "scores_wine_adaboost = cross_val_score(gs_adaboost, wine_X, wine_y, scoring='accuracy', cv = rkf)\n",
    "scores_wine_randomforest = cross_val_score(gs_randomforest, wine_X, wine_y, scoring='accuracy', cv = rkf)\n",
    "scores_wine_hgPooling = cross_val_score(gs_hgPooling, wine_X, wine_y, scoring='accuracy', cv = rkf)"
   ]
  },
  {
   "cell_type": "code",
   "execution_count": 12,
   "id": "9c4c0788",
   "metadata": {},
   "outputs": [],
   "source": [
    "#scores na base breast cancer de cada classificador\n",
    "scores_cancer_bagging = cross_val_score(gs_bagging, cancer_X, cancer_y, scoring='accuracy', cv = rkf)\n",
    "scores_cancer_adaboost = cross_val_score(gs_adaboost, cancer_X, cancer_y, scoring='accuracy', cv = rkf)\n",
    "scores_cancer_randomforest = cross_val_score(gs_randomforest, cancer_X, cancer_y, scoring='accuracy', cv = rkf)\n",
    "scores_cancer_hgPooling = cross_val_score(gs_hgPooling, cancer_X, cancer_y, scoring='accuracy', cv = rkf)"
   ]
  },
  {
   "cell_type": "code",
   "execution_count": 13,
   "id": "c9014f6b",
   "metadata": {},
   "outputs": [],
   "source": [
    "#scores na base digits de cada classificador\n",
    "scores_digits_bagging = cross_val_score(gs_bagging, digits_X, digits_y, scoring='accuracy', cv = rkf)\n",
    "scores_digits_adaboost = cross_val_score(gs_adaboost, digits_X, digits_y, scoring='accuracy', cv = rkf)\n",
    "scores_digits_randomforest = cross_val_score(gs_randomforest, digits_X, digits_y, scoring='accuracy', cv = rkf)\n",
    "scores_digits_hgPooling = cross_val_score(gs_hgPooling, digits_X, digits_y, scoring='accuracy', cv = rkf)"
   ]
  },
  {
   "cell_type": "code",
   "execution_count": 14,
   "id": "a13b3768",
   "metadata": {},
   "outputs": [],
   "source": [
    "#função para calcular a média das acuracias, desvio padrão, intervalo a 95% inferior e superior\n",
    "def scor(scores):\n",
    "    mean = scores.mean()\n",
    "    std = scores.std()\n",
    "    inf, sup = stats.norm.interval(0.95, loc=mean,\n",
    "                               scale=std/np.sqrt(len(scores)))\n",
    "    return mean,std,inf,sup"
   ]
  },
  {
   "cell_type": "code",
   "execution_count": 15,
   "id": "b4be20d9",
   "metadata": {},
   "outputs": [
    {
     "name": "stdout",
     "output_type": "stream",
     "text": [
      "~~ Wine ~~\n",
      "                           0              1         2         3\n",
      "Método        Acuracia Media  Desvio Padrao  Inferior  Superior\n",
      "bagging             0.966231       0.056837  0.945892   0.98657\n",
      "adaboost            0.912309       0.071514  0.886719    0.9379\n",
      "randomforest        0.979303       0.030765  0.968294  0.990312\n",
      "hgPooling            0.97549       0.042899  0.960139  0.990841\n",
      "\n",
      "\n",
      "~~ Breast Cancer ~~\n",
      "                           0              1         2         3\n",
      "Método        Acuracia Media  Desvio Padrao  Inferior  Superior\n",
      "bagging             0.961915       0.024082  0.953298  0.970533\n",
      "adaboost            0.967784       0.023573  0.959349  0.976219\n",
      "randomforest         0.96368       0.023082  0.955421   0.97194\n",
      "hgPooling           0.956046       0.021166  0.948472  0.963621\n",
      "\n",
      "\n",
      "~~ Digits ~~\n",
      "                           0              1         2         3\n",
      "Método        Acuracia Media  Desvio Padrao  Inferior  Superior\n",
      "bagging              0.95438       0.013922  0.949399  0.959362\n",
      "adaboost            0.269878        0.02226  0.261912  0.277844\n",
      "randomforest        0.977368       0.009743  0.973882  0.980855\n",
      "hgPooling           0.966432        0.01221  0.962063  0.970801\n"
     ]
    }
   ],
   "source": [
    "#impressão das tabelas de média das acuracias, desvio padrão, intervalo a 95% inferior e superior\n",
    "#\n",
    "#WINE\n",
    "print(\"~~ Wine ~~\")\n",
    "data_wine = {'Método':['Acuracia Media', 'Desvio Padrao', 'Inferior', 'Superior'],\n",
    "        'bagging':scor(scores_wine_bagging),\n",
    "        'adaboost':scor(scores_wine_adaboost),\n",
    "        'randomforest':scor(scores_wine_randomforest),\n",
    "        'hgPooling':scor(scores_wine_hgPooling)}\n",
    "\n",
    "df_wine = pd.DataFrame(data_wine)\n",
    "print(df_wine.T)\n",
    "\n",
    "#\n",
    "#BREAST CANCER\n",
    "print(\"\\n\\n~~ Breast Cancer ~~\")\n",
    "data_cancer = {'Método':['Acuracia Media', 'Desvio Padrao', 'Inferior', 'Superior'],\n",
    "        'bagging':scor(scores_cancer_bagging),\n",
    "        'adaboost':scor(scores_cancer_adaboost),\n",
    "        'randomforest':scor(scores_cancer_randomforest),\n",
    "        'hgPooling':scor(scores_cancer_hgPooling)}\n",
    "\n",
    "df_cancer = pd.DataFrame(data_cancer)\n",
    "print(df_cancer.T)\n",
    "\n",
    "#\n",
    "#DIGITS\n",
    "print(\"\\n\\n~~ Digits ~~\")\n",
    "data_digits = {'Método':['Acuracia Media', 'Desvio Padrao', 'Inferior', 'Superior'],\n",
    "        'bagging':scor(scores_digits_bagging),\n",
    "        'adaboost':scor(scores_digits_adaboost),\n",
    "        'randomforest':scor(scores_digits_randomforest),\n",
    "        'hgPooling':scor(scores_digits_hgPooling)}\n",
    "\n",
    "df_digits = pd.DataFrame(data_digits)\n",
    "print(df_digits.T)\n"
   ]
  },
  {
   "cell_type": "markdown",
   "id": "b711ebb1",
   "metadata": {},
   "source": [
    "##BOXPLOTS\n",
    "As próximas 3 cells vão plotas os boxplot usando pandas DataFrame e o boxplot do Seaborn"
   ]
  },
  {
   "cell_type": "code",
   "execution_count": 23,
   "id": "4e14ea17",
   "metadata": {},
   "outputs": [
    {
     "name": "stdout",
     "output_type": "stream",
     "text": [
      "\n",
      "~~ Wine ~~\n",
      "[0.88888889 0.88888889 0.94444444 1.         0.88888889 0.94444444\n",
      " 0.83333333 1.         0.94117647 0.94117647 0.72222222 0.83333333\n",
      " 0.88888889 0.94444444 1.         0.88888889 0.88888889 0.88888889\n",
      " 0.94117647 1.         1.         1.         0.83333333 0.94444444\n",
      " 0.94444444 0.83333333 0.77777778 0.94444444 0.82352941 1.        ]\n"
     ]
    },
    {
     "data": {
      "image/png": "[encoded data removed]",
      "text/plain": [
       "<Figure size 432x288 with 1 Axes>"
      ]
     },
     "metadata": {
      "needs_background": "light"
     },
     "output_type": "display_data"
    }
   ],
   "source": [
    "# WINE\n",
    "data_wine_box = {'Bagging':scores_wine_bagging,\n",
    "                'AdaBoost':scores_wine_adaboost,\n",
    "                'RandomForest':scores_wine_randomforest,\n",
    "                'Hg. Pooling':scores_wine_hgPooling}\n",
    "df_wine_box = pd.DataFrame(data_wine_box) #,columns=[\"metodos\",\"scores\"]\n",
    "print(\"\\n~~ Wine ~~\")\n",
    "bplot_wine=sns.boxplot(data=df_wine_box)"
   ]
  },
  {
   "cell_type": "code",
   "execution_count": 17,
   "id": "e7d2fded",
   "metadata": {},
   "outputs": [
    {
     "name": "stdout",
     "output_type": "stream",
     "text": [
      "\n",
      "~~ Breast Cancer ~~\n"
     ]
    },
    {
     "data": {
      "image/png": "[encoded data removed]",
      "text/plain": [
       "<Figure size 432x288 with 1 Axes>"
      ]
     },
     "metadata": {
      "needs_background": "light"
     },
     "output_type": "display_data"
    }
   ],
   "source": [
    "# BREAST CANCER\n",
    "data_cancer_box = {'Baggin':scores_cancer_bagging,\n",
    "                'AdaBoost':scores_cancer_adaboost,\n",
    "                'RandomForest':scores_cancer_randomforest,\n",
    "                'Hg. Pooling':scores_cancer_hgPooling}\n",
    "df_cancer_box = pd.DataFrame(data_cancer_box)\n",
    "print(\"\\n~~ Breast Cancer ~~\")\n",
    "bplot_cancer=sns.boxplot(data=df_cancer_box)"
   ]
  },
  {
   "cell_type": "code",
   "execution_count": 18,
   "id": "8a737b1d",
   "metadata": {},
   "outputs": [
    {
     "name": "stdout",
     "output_type": "stream",
     "text": [
      "\n",
      "~~ Digits ~~\n"
     ]
    },
    {
     "data": {
      "image/png": "[encoded data removed]",
      "text/plain": [
       "<Figure size 432x288 with 1 Axes>"
      ]
     },
     "metadata": {
      "needs_background": "light"
     },
     "output_type": "display_data"
    }
   ],
   "source": [
    "# DIGITS\n",
    "data_digits_box = {'Bagging':scores_digits_bagging,\n",
    "                'AdaBoost':scores_digits_adaboost,\n",
    "                'RandomForet':scores_digits_randomforest,\n",
    "                'Hg. Pooling':scores_digits_hgPooling}\n",
    "df_digits_box = pd.DataFrame(data_digits_box)\n",
    "print(\"\\n~~ Digits ~~\")\n",
    "bplot_digits=sns.boxplot(data=df_digits_box)"
   ]
  },
  {
   "cell_type": "code",
   "execution_count": 19,
   "id": "cda01139",
   "metadata": {},
   "outputs": [
    {
     "name": "stdout",
     "output_type": "stream",
     "text": [
      "         0         1              2                      3\n",
      "0  Bagging   0.00263        0.11979                0.22167\n",
      "1  0.00357  AdaBoost        0.00054                0.00088\n",
      "2  0.10984   0.00017  Random Forest                0.56869\n",
      "3  0.13841   0.00040        0.48586  Heterogeneous Pooling\n"
     ]
    },
    {
     "name": "stderr",
     "output_type": "stream",
     "text": [
      "C:\\Users\\jolua\\Anaconda3\\lib\\site-packages\\scipy\\stats\\morestats.py:2981: UserWarning: Sample size too small for normal approximation.\n",
      "  warnings.warn(\"Sample size too small for normal approximation.\")\n"
     ]
    }
   ],
   "source": [
    "# Paired t Test\n",
    "s,p_rf_hp = ttest_rel(scores_wine_randomforest,scores_wine_hgPooling)\n",
    "s,p_bagging_rf = ttest_rel(scores_wine_bagging, scores_wine_randomforest)\n",
    "s,p_bagging_ada = ttest_rel(scores_wine_bagging, scores_wine_adaboost)\n",
    "s,p_bagging_hp = ttest_rel(scores_wine_bagging, scores_wine_hgPooling)\n",
    "s,p_ada_rf = ttest_rel(scores_wine_adaboost, scores_wine_randomforest)\n",
    "s,p_ada_hp = ttest_rel(scores_wine_adaboost, scores_wine_hgPooling)\n",
    "\n",
    "# Wilcoxon\n",
    "s,pw_rf_hp = wilcoxon(scores_wine_randomforest,scores_wine_hgPooling)\n",
    "s,pw_bagging_rf = wilcoxon(scores_wine_bagging, scores_wine_randomforest)\n",
    "s,pw_bagging_ada = wilcoxon(scores_wine_bagging, scores_wine_adaboost)\n",
    "s,pw_bagging_hp = wilcoxon(scores_wine_bagging, scores_wine_hgPooling)\n",
    "s,pw_ada_rf = wilcoxon(scores_wine_adaboost, scores_wine_randomforest)\n",
    "s,pw_ada_hp = wilcoxon(scores_wine_adaboost, scores_wine_hgPooling)\n",
    "    \n",
    "data_wine_p = [[\"Bagging\",'{0:.5f}'.format(p_bagging_ada),'{0:.5f}'.format(p_bagging_rf),'{0:.5f}'.format(p_bagging_hp)], \n",
    "                    ['{0:.5f}'.format(pw_bagging_ada),\"AdaBoost\",'{0:.5f}'.format(p_ada_rf),'{0:.5f}'.format(p_ada_hp)],\n",
    "                    ['{0:.5f}'.format(pw_bagging_rf),'{0:.5f}'.format(pw_ada_rf),\"Random Forest\",'{0:.5f}'.format(p_rf_hp)],\n",
    "                    ['{0:.5f}'.format(pw_bagging_hp),'{0:.5f}'.format(pw_ada_hp),'{0:.5f}'.format(pw_rf_hp),\"Heterogeneous Pooling\"]]\n",
    "\n",
    "df_wine_p = pd.DataFrame(data_wine_p)\n",
    "print(df_wine_p.T)"
   ]
  },
  {
   "cell_type": "code",
   "execution_count": 20,
   "id": "9e722493",
   "metadata": {},
   "outputs": [
    {
     "name": "stdout",
     "output_type": "stream",
     "text": [
      "         0         1              2                      3\n",
      "0  Bagging   0.05243        0.52675                0.15902\n",
      "1  0.05738  AdaBoost        0.29649                0.00397\n",
      "2  0.57151   0.30355  Random Forest                0.01008\n",
      "3  0.11561   0.00289        0.01664  Heterogeneous Pooling\n"
     ]
    }
   ],
   "source": [
    "# Paired t Test\n",
    "s,p_rf_hp_cancer = ttest_rel(scores_cancer_randomforest,scores_cancer_hgPooling)\n",
    "s,p_bagging_rf_cancer = ttest_rel(scores_cancer_bagging, scores_cancer_randomforest)\n",
    "s,p_bagging_ada_cancer = ttest_rel(scores_cancer_bagging, scores_cancer_adaboost)\n",
    "s,p_bagging_hp_cancer = ttest_rel(scores_cancer_bagging, scores_cancer_hgPooling)\n",
    "s,p_ada_rf_cancer = ttest_rel(scores_cancer_adaboost, scores_cancer_randomforest)\n",
    "s,p_ada_hp_cancer = ttest_rel(scores_cancer_adaboost, scores_cancer_hgPooling)\n",
    "\n",
    "# Wilcoxon\n",
    "s,pw_rf_hp_cancer = wilcoxon(scores_cancer_randomforest,scores_cancer_hgPooling)\n",
    "s,pw_bagging_rf_cancer = wilcoxon(scores_cancer_bagging, scores_cancer_randomforest)\n",
    "s,pw_bagging_ada_cancer = wilcoxon(scores_cancer_bagging, scores_cancer_adaboost)\n",
    "s,pw_bagging_hp_cancer = wilcoxon(scores_cancer_bagging, scores_cancer_hgPooling)\n",
    "s,pw_ada_rf_cancer = wilcoxon(scores_cancer_adaboost, scores_cancer_randomforest)\n",
    "s,pw_ada_hp_cancer = wilcoxon(scores_cancer_adaboost, scores_cancer_hgPooling)\n",
    "    \n",
    "data_cancer_p = [[\"Bagging\",'{0:.5f}'.format(p_bagging_ada_cancer),'{0:.5f}'.format(p_bagging_rf_cancer),'{0:.5f}'.format(p_bagging_hp_cancer)], \n",
    "                    ['{0:.5f}'.format(pw_bagging_ada_cancer),\"AdaBoost\",'{0:.5f}'.format(p_ada_rf_cancer),'{0:.5f}'.format(p_ada_hp_cancer)],\n",
    "                    ['{0:.5f}'.format(pw_bagging_rf_cancer),'{0:.5f}'.format(pw_ada_rf_cancer),\"Random Forest\",'{0:.5f}'.format(p_rf_hp_cancer)],\n",
    "                    ['{0:.5f}'.format(pw_bagging_hp_cancer),'{0:.5f}'.format(pw_ada_hp_cancer),'{0:.5f}'.format(pw_rf_hp_cancer),\"Heterogeneous Pooling\"]]\n",
    "\n",
    "df_cancer_p = pd.DataFrame(data_cancer_p)\n",
    "print(df_cancer_p.T)"
   ]
  },
  {
   "cell_type": "code",
   "execution_count": 21,
   "id": "ea8cbba3",
   "metadata": {},
   "outputs": [
    {
     "name": "stdout",
     "output_type": "stream",
     "text": [
      "         0         1              2                      3\n",
      "0  Bagging   0.00000        0.00000                0.00040\n",
      "1  0.00000  AdaBoost        0.00000                0.00000\n",
      "2  0.00000   0.00000  Random Forest                0.00003\n",
      "3  0.00027   0.00000        0.00001  Heterogeneous Pooling\n"
     ]
    }
   ],
   "source": [
    "# Paired t Test\n",
    "s,p_rf_hp_digits = ttest_rel(scores_digits_randomforest,scores_digits_hgPooling)\n",
    "s,p_bagging_rf_digits = ttest_rel(scores_digits_bagging, scores_digits_randomforest)\n",
    "s,p_bagging_ada_digits = ttest_rel(scores_digits_bagging, scores_digits_adaboost)\n",
    "s,p_bagging_hp_digits = ttest_rel(scores_digits_bagging, scores_digits_hgPooling)\n",
    "s,p_ada_rf_digits = ttest_rel(scores_digits_adaboost, scores_digits_randomforest)\n",
    "s,p_ada_hp_digits = ttest_rel(scores_digits_adaboost, scores_digits_hgPooling)\n",
    "\n",
    "# Wilcoxon\n",
    "s,pw_rf_hp_digits = wilcoxon(scores_digits_randomforest,scores_digits_hgPooling)\n",
    "s,pw_bagging_rf_digits = wilcoxon(scores_digits_bagging, scores_digits_randomforest)\n",
    "s,pw_bagging_ada_digits = wilcoxon(scores_digits_bagging, scores_digits_adaboost)\n",
    "s,pw_bagging_hp_digits = wilcoxon(scores_digits_bagging, scores_digits_hgPooling)\n",
    "s,pw_ada_rf_digits = wilcoxon(scores_digits_adaboost, scores_digits_randomforest)\n",
    "s,pw_ada_hp_digits = wilcoxon(scores_digits_adaboost, scores_digits_hgPooling)\n",
    "    \n",
    "data_digits_p = [[\"Bagging\",'{0:.5f}'.format(p_bagging_ada_digits),'{0:.5f}'.format(p_bagging_rf_digits),'{0:.5f}'.format(p_bagging_hp_digits)], \n",
    "                    ['{0:.5f}'.format(pw_bagging_ada_digits),\"AdaBoost\",'{0:.5f}'.format(p_ada_rf_digits),'{0:.5f}'.format(p_ada_hp_digits)],\n",
    "                    ['{0:.5f}'.format(pw_bagging_rf_digits),'{0:.5f}'.format(pw_ada_rf_digits),\"Random Forest\",'{0:.5f}'.format(p_rf_hp_digits)],\n",
    "                    ['{0:.5f}'.format(pw_bagging_hp_digits),'{0:.5f}'.format(pw_ada_hp_digits),'{0:.5f}'.format(pw_rf_hp_digits),\"Heterogeneous Pooling\"]]\n",
    "\n",
    "df_digits_p = pd.DataFrame(data_digits_p)\n",
    "print(df_digits_p.T)"
   ]
  }
 ],
 "metadata": {
  "kernelspec": {
   "display_name": "Python 3",
   "language": "python",
   "name": "python3"
  },
  "language_info": {
   "codemirror_mode": {
    "name": "ipython",
    "version": 3
   },
   "file_extension": ".py",
   "mimetype": "text/x-python",
   "name": "python",
   "nbconvert_exporter": "python",
   "pygments_lexer": "ipython3",
   "version": "3.8.8"
  }
 },
 "nbformat": 4,
 "nbformat_minor": 5
}
