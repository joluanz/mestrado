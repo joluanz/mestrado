{
 "cells": [
  {
   "cell_type": "code",
   "execution_count": 1,
   "id": "c18a9e6d",
   "metadata": {},
   "outputs": [],
   "source": [
    "from sklearn.datasets import fetch_openml\n",
    "mnist = fetch_openml(data_id=554) # https://www.openml.org/d/554"
   ]
  },
  {
   "cell_type": "code",
   "execution_count": 4,
   "id": "1aabf1f9",
   "metadata": {},
   "outputs": [],
   "source": [
    "X_mnist = mnist.data\n",
    "y_mnist = mnist.target"
   ]
  },
  {
   "cell_type": "code",
   "execution_count": 5,
   "id": "9fd2eac7",
   "metadata": {},
   "outputs": [
    {
     "name": "stdout",
     "output_type": "stream",
     "text": [
      "(70000, 784)\n",
      "(70000,)\n"
     ]
    }
   ],
   "source": [
    "print(X_mnist.shape)\n",
    "print(y_mnist.shape)"
   ]
  },
  {
   "cell_type": "code",
   "execution_count": 7,
   "id": "5d8f2655",
   "metadata": {},
   "outputs": [],
   "source": [
    "from sklearn.neighbors import KNeighborsClassifier\n",
    "from sklearn import datasets, preprocessing\n",
    "from sklearn.model_selection import cross_val_predict, cross_val_score, RepeatedStratifiedKFold, GridSearchCV\n",
    "\n",
    "kNN = KNeighborsClassifier() #inicia o classificador\n",
    "\n",
    "rkf = RepeatedStratifiedKFold(n_splits=10, n_repeats=3,random_state=36851234) #ciclo externo\n",
    "\n",
    "scores = cross_val_score(kNN, X_mnist, y_mnist, scoring='accuracy', cv = rkf)"
   ]
  },
  {
   "cell_type": "code",
   "execution_count": 8,
   "id": "e5241d5c",
   "metadata": {},
   "outputs": [
    {
     "name": "stdout",
     "output_type": "stream",
     "text": [
      "[0.97657143 0.97214286 0.97142857 0.97028571 0.97028571 0.96957143\n",
      " 0.97414286 0.97385714 0.97285714 0.97128571 0.97414286 0.97614286\n",
      " 0.97214286 0.97114286 0.97014286 0.97071429 0.97514286 0.97328571\n",
      " 0.96857143 0.97285714 0.96914286 0.97485714 0.97128571 0.96942857\n",
      " 0.97571429 0.97614286 0.97       0.97385714 0.974      0.97085714]\n"
     ]
    }
   ],
   "source": [
    "print(scores)"
   ]
  }
 ],
 "metadata": {
  "kernelspec": {
   "display_name": "Python 3",
   "language": "python",
   "name": "python3"
  },
  "language_info": {
   "codemirror_mode": {
    "name": "ipython",
    "version": 3
   },
   "file_extension": ".py",
   "mimetype": "text/x-python",
   "name": "python",
   "nbconvert_exporter": "python",
   "pygments_lexer": "ipython3",
   "version": "3.8.8"
  }
 },
 "nbformat": 4,
 "nbformat_minor": 5
}
