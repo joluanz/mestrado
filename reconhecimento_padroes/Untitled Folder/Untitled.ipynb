{
 "cells": [
  {
   "cell_type": "code",
   "execution_count": 12,
   "id": "35b988aa",
   "metadata": {},
   "outputs": [],
   "source": [
    "from sklearn import datasets\n",
    "from sklearn.neighbors import KNeighborsClassifier\n",
    "from sklearn import datasets, preprocessing\n",
    "from sklearn.model_selection import cross_val_predict, cross_val_score, RepeatedStratifiedKFold, GridSearchCV\n",
    "from numpy import mean, std\n",
    "from scipy import stats\n",
    "import numpy as np"
   ]
  },
  {
   "cell_type": "code",
   "execution_count": 8,
   "id": "7bf34511",
   "metadata": {},
   "outputs": [],
   "source": [
    "def scor(scores):\n",
    "    means = mean(scores)\n",
    "    stds = std(scores)\n",
    "    inf, sup = stats.norm.interval(0.95, loc=means,\n",
    "                               scale=stds/np.sqrt(len(scores)))\n",
    "    return means,stds,inf,sup"
   ]
  },
  {
   "cell_type": "code",
   "execution_count": 26,
   "id": "de48e5c3",
   "metadata": {},
   "outputs": [],
   "source": [
    "wine = datasets.load_digits()\n",
    "X_wine = wine.data\n",
    "y_wine = wine.target"
   ]
  },
  {
   "cell_type": "code",
   "execution_count": 33,
   "id": "a1582fbd",
   "metadata": {},
   "outputs": [],
   "source": [
    "kNN = KNeighborsClassifier(n_neighbors=2) #inicia o classificador\n",
    "\n",
    "rkf = RepeatedStratifiedKFold(n_splits=10, n_repeats=3,random_state=36851234) #ciclo externo\n",
    "\n",
    "scores = cross_val_score(kNN, X_wine, y_wine, scoring='accuracy', cv = rkf)"
   ]
  },
  {
   "cell_type": "code",
   "execution_count": 34,
   "id": "63022cd0",
   "metadata": {},
   "outputs": [
    {
     "data": {
      "text/plain": [
       "(0.9862683633354025,\n",
       " 0.010035853196242023,\n",
       " 0.9826771453822182,\n",
       " 0.9898595812885868)"
      ]
     },
     "execution_count": 34,
     "metadata": {},
     "output_type": "execute_result"
    }
   ],
   "source": [
    "scor(scores)"
   ]
  },
  {
   "cell_type": "code",
   "execution_count": null,
   "id": "b1b4fa47",
   "metadata": {},
   "outputs": [],
   "source": []
  }
 ],
 "metadata": {
  "kernelspec": {
   "display_name": "Python 3",
   "language": "python",
   "name": "python3"
  },
  "language_info": {
   "codemirror_mode": {
    "name": "ipython",
    "version": 3
   },
   "file_extension": ".py",
   "mimetype": "text/x-python",
   "name": "python",
   "nbconvert_exporter": "python",
   "pygments_lexer": "ipython3",
   "version": "3.8.8"
  }
 },
 "nbformat": 4,
 "nbformat_minor": 5
}
